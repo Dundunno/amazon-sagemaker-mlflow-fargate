{
 "cells": [
  {
   "cell_type": "markdown",
   "metadata": {},
   "source": [
    "# Deploy an MLflow model with SageMaker"
   ]
  },
  {
   "cell_type": "markdown",
   "metadata": {},
   "source": [
    "## Install MLflow"
   ]
  },
  {
   "cell_type": "code",
   "execution_count": null,
   "metadata": {},
   "outputs": [],
   "source": [
    "!pip install -q mlflow==2.0.1"
   ]
  },
  {
   "cell_type": "markdown",
   "metadata": {},
   "source": [
    "## Setup environment"
   ]
  },
  {
   "cell_type": "code",
   "execution_count": 1,
   "metadata": {
    "ExecuteTime": {
     "end_time": "2023-05-08T15:52:32.381401700Z",
     "start_time": "2023-05-08T15:52:22.856670400Z"
    }
   },
   "outputs": [],
   "source": [
    "import json\n",
    "import boto3\n",
    "import mlflow\n",
    "import sagemaker\n",
    "import pandas as pd\n",
    "import mlflow.sagemaker\n",
    "from sklearn.datasets import fetch_california_housing\n",
    "from mlflow.deployments import get_deploy_client"
   ]
  },
  {
   "cell_type": "code",
   "execution_count": 2,
   "outputs": [],
   "source": [
    "# name of the AWS region to which to deploy the application\n",
    "region = sagemaker.Session().boto_region_name\n",
    "# we are using the notebook instance role for training in this example\n",
    "role = 'arn:aws:iam::118756721574:role/sm_execution'\n",
    "# role = sagemaker.get_execution_role()\n",
    "# uri of your remote mlflow server\n",
    "tracking_uri = 'http://13.40.213.205:5000'\n",
    "# set remote mlflow server\n",
    "mlflow.set_tracking_uri(tracking_uri)"
   ],
   "metadata": {
    "collapsed": false,
    "ExecuteTime": {
     "end_time": "2023-05-08T15:52:42.288040500Z",
     "start_time": "2023-05-08T15:52:40.993273400Z"
    }
   }
  },
  {
   "cell_type": "markdown",
   "metadata": {},
   "source": [
    "## Build MLflow docker image to serve the model with SageMaker "
   ]
  },
  {
   "cell_type": "code",
   "execution_count": 6,
   "metadata": {
    "ExecuteTime": {
     "end_time": "2023-05-08T16:51:01.244523800Z",
     "start_time": "2023-05-08T16:41:49.594977300Z"
    }
   },
   "outputs": [
    {
     "name": "stdout",
     "output_type": "stream",
     "text": [
      "Login Succeeded"
     ]
    },
    {
     "name": "stderr",
     "output_type": "stream",
     "text": [
      "2023/05/08 17:42:02 INFO mlflow.models.docker_utils: Building docker image with name mlflow-pyfunc\n",
      "#1 [internal] load build definition from Dockerfile\n",
      "#1 sha256:5b0acfd904d1785757e180ed2e7f69c0b77856625903a64a9499c0db33b48a6e\n",
      "#1 transferring dockerfile: 30B 0.0s\n",
      "#1 transferring dockerfile: 2.40kB 0.1s done\n",
      "#1 DONE 0.1s\n",
      "\n",
      "#2 [internal] load .dockerignore\n",
      "#2 sha256:9ac6bb66441be6c691733f1853b5589aa9f9aca5fe3875e769017cd2ed51fa31\n",
      "#2 transferring context: 2B 0.0s done\n",
      "#2 DONE 0.1s\n",
      "\n",
      "#3 [internal] load metadata for docker.io/library/ubuntu:20.04\n",
      "#3 sha256:8e67b796a66f85f06793e026943184e32d365c77929e94d2ac98b34a1e1cb30e\n",
      "#3 ...\n",
      "\n",
      "#4 [auth] library/ubuntu:pull token for registry-1.docker.io\n",
      "#4 sha256:02c6f2784275c1ed335abe8afcdebdc2eb588e51a3a2cb640936ade05fd2236d\n",
      "#4 DONE 0.0s\n",
      "\n",
      "#3 [internal] load metadata for docker.io/library/ubuntu:20.04\n",
      "#3 sha256:8e67b796a66f85f06793e026943184e32d365c77929e94d2ac98b34a1e1cb30e\n",
      "#3 DONE 2.3s\n",
      "\n",
      "#5 [ 1/20] FROM docker.io/library/ubuntu:20.04@sha256:db8bf6f4fb351aa7a26e27ba2686cf35a6a409f65603e59d4c203e58387dc6b3\n",
      "#5 sha256:1bae5227e407d99860558d8d8b17e917f6c8055fb0b00be1395da7669a1fe74d\n",
      "#5 DONE 0.0s\n",
      "\n",
      "#23 [19/20] RUN python -c \"from mlflow.models.container import _install_pyfunc_deps;_install_pyfunc_deps(None, False)\"\n",
      "#23 sha256:a69a6e3cda4136b45302eb65ca4bdf9aab91c5f95d2b33700dc9d2a5b4b89eaa\n",
      "#23 CACHED\n",
      "\n",
      "#11 [ 7/20] RUN git clone     --depth 1     --branch $(git ls-remote --tags https://github.com/pyenv/pyenv.git | grep -o -E 'v[1-9]+(\\.[1-9]+)+$' | tail -1)     https://github.com/pyenv/pyenv.git /root/.pyenv\n",
      "#11 sha256:d227eb9532f32e54ee703e6c6519bbc8ee24e921bf2e4146fea6e080e1da75d0\n",
      "#11 CACHED\n",
      "\n",
      "#22 [18/20] RUN cd /opt/java && mvn --batch-mode dependency:copy-dependencies -DoutputDirectory=/opt/java/jars\n",
      "#22 sha256:7ff065315537e61aefe464cdc50db42188629a309c74d18904c788756a756beb\n",
      "#22 CACHED\n",
      "\n",
      "#12 [ 8/20] RUN apt install -y python3.8 python3.8-distutils\n",
      "#12 sha256:89c9dcfd9f4df5783341e33d0373f437f6950817fc523188875312b20c01ebe5\n",
      "#12 CACHED\n",
      "\n",
      "#20 [16/20] RUN mvn --batch-mode dependency:copy -Dartifact=org.mlflow:mlflow-scoring:2.3.1:jar -DoutputDirectory=/opt/java/jars\n",
      "#20 sha256:ff42b24f9173a9f35cbdbbf4d8c5c3b2bac6beada4569863903a4190fce0dae8\n",
      "#20 CACHED\n",
      "\n",
      "#15 [11/20] RUN python /tmp/get-pip.py\n",
      "#15 sha256:eeae386afe126e9dad2e7f38854d12229b2022a763cacc0a4b8095bcb2bf87ea\n",
      "#15 CACHED\n",
      "\n",
      "#19 [15/20] RUN mvn --batch-mode dependency:copy -Dartifact=org.mlflow:mlflow-scoring:2.3.1:pom -DoutputDirectory=/opt/java\n",
      "#19 sha256:50e3508c10463d05dd351d137d531270abb01942b93e4982f5cf769ec39ed3f0\n",
      "#19 CACHED\n",
      "\n",
      "#8 [ 4/20] RUN apt -y update\n",
      "#8 sha256:d6b0341fe7e0591b281af5dc0cfd762d5c9a35ca2ecda7286f69274398a5cd66\n",
      "#8 CACHED\n",
      "\n",
      "#14 [10/20] RUN wget https://bootstrap.pypa.io/get-pip.py -O /tmp/get-pip.py\n",
      "#14 sha256:5155be5f8aecf538e28e3718e0de4a249a43dc13626a7aad6717698f511728e6\n",
      "#14 CACHED\n",
      "\n",
      "#6 [ 2/20] RUN apt-get -y update\n",
      "#6 sha256:8a977aa06d0cd88bbbd9d5d4cc459e36de7d079fb35b87b7e6ead4289d475653\n",
      "#6 CACHED\n",
      "\n",
      "#18 [14/20] RUN pip install mlflow==2.3.1\n",
      "#18 sha256:480444508e59b0a719885d96d4f503a3ee26035826b91f3dd2271c169a600200\n",
      "#18 CACHED\n",
      "\n",
      "#10 [ 6/20] RUN apt-get install -y     libssl-dev zlib1g-dev libbz2-dev libreadline-dev libsqlite3-dev wget curl llvm     libncursesw5-dev xz-utils tk-dev libxml2-dev libxmlsec1-dev libffi-dev liblzma-dev\n",
      "#10 sha256:a305e6e58f4355b40141b4655340ffbb70a502205f4d0dc5c96b35cddcce1df4\n",
      "#10 CACHED\n",
      "\n",
      "#9 [ 5/20] RUN DEBIAN_FRONTEND=noninteractive TZ=Etc/UTC apt-get -y install tzdata\n",
      "#9 sha256:14d74b9b7a638b01cd79216ae9280265de68ef3a49d0c35e30b134e2f14ace74\n",
      "#9 CACHED\n",
      "\n",
      "#13 [ 9/20] RUN ln -s -f $(which python3.8) /usr/bin/python\n",
      "#13 sha256:33e76f9cca9740757f11e8c60edc0d299913662e624901becef52fbef77f35ce\n",
      "#13 CACHED\n",
      "\n",
      "#21 [17/20] RUN cp /opt/java/mlflow-scoring-2.3.1.pom /opt/java/pom.xml\n",
      "#21 sha256:3613ce91a041fb0ccbbb29ae9d74b0613aa80d9c7e16e525663d4afb1c11560d\n",
      "#21 CACHED\n",
      "\n",
      "#7 [ 3/20] RUN DEBIAN_FRONTEND=noninteractive TZ=Etc/UTC apt-get install -y --no-install-recommends          wget          curl          nginx          ca-certificates          bzip2          build-essential          cmake          openjdk-8-jdk          git-core          maven     && rm -rf /var/lib/apt/lists/*\n",
      "#7 sha256:92b0491b680b081259af03ac42dc18f2c5d7e28747ebe1fb5083201a6f6737b3\n",
      "#7 CACHED\n",
      "\n",
      "#16 [12/20] RUN pip install virtualenv\n",
      "#16 sha256:70308b5aee8377269d7e25bf403b38a733e19b3003abdce0377aae0f50d9629a\n",
      "#16 CACHED\n",
      "\n",
      "#17 [13/20] WORKDIR /opt/mlflow\n",
      "#17 sha256:55f52ff00c45307f45a39858bae36a9b13f7ce4b3802909d7b585188c20b53c5\n",
      "#17 CACHED\n",
      "\n",
      "#24 [20/20] RUN chmod o+rwX /opt/mlflow/\n",
      "#24 sha256:4acd30e19eebdf138d2b55a78d0956e4965ac7b42a70a68d9bd7a575f6456076\n",
      "#24 CACHED\n",
      "\n",
      "#25 exporting to image\n",
      "#25 sha256:e8c613e07b0b7ff33893b694f7759a10d42e180f2b4dc349fb57dc6b71dcab00\n",
      "#25 exporting layers done\n",
      "#25 writing image sha256:6de4aaa751361ef49d8a54e29ee9d1abb1b0187e22c025440eb61f0f7bb20b2c 0.0s done\n",
      "#25 naming to docker.io/library/mlflow-pyfunc done\n",
      "#25 DONE 0.1s\n",
      "\n",
      "Use 'docker scan' to run Snyk tests against images to find vulnerabilities and learn how to fix them\n",
      "2023/05/08 17:42:13 INFO mlflow.sagemaker: Pushing image to ECR\n",
      "2023/05/08 17:42:15 INFO mlflow.sagemaker: Pushing docker image mlflow-pyfunc to 118756721574.dkr.ecr.eu-west-2.amazonaws.com/mlflow-pyfunc:2.3.1\n",
      "2023/05/08 17:42:15 INFO mlflow.sagemaker: Created new ECR repository: mlflow-pyfunc\n",
      "2023/05/08 17:42:15 INFO mlflow.sagemaker: Executing: aws ecr get-login-password | docker login  --username AWS --password-stdin 118756721574.dkr.ecr.eu-west-2.amazonaws.com && docker tag mlflow-pyfunc 118756721574.dkr.ecr.eu-west-2.amazonaws.com/mlflow-pyfunc:2.3.1 && docker push 118756721574.dkr.ecr.eu-west-2.amazonaws.com/mlflow-pyfunc:2.3.1\n",
      "\n",
      "Logging in with your password grants your terminal complete access to your account. \n",
      "For better security, log in with a limited-privilege personal access token. Learn more at https://docs.docker.com/go/access-tokens/\n"
     ]
    },
    {
     "name": "stdout",
     "output_type": "stream",
     "text": [
      "\n",
      "The push refers to repository [118756721574.dkr.ecr.eu-west-2.amazonaws.com/mlflow-pyfunc]\n",
      "8eb826a92851: Preparing\n",
      "e99700231aa9: Preparing\n",
      "3048945286ee: Preparing\n",
      "372a9969cb16: Preparing\n",
      "3280f248c98d: Preparing\n",
      "14e4b062897a: Preparing\n",
      "9f1b89b6c512: Preparing\n",
      "e6ceb1f2e72b: Preparing\n",
      "6d9f79e08353: Preparing\n",
      "14e4b062897a: Waiting\n",
      "9f1b89b6c512: Waiting\n",
      "e6ceb1f2e72b: Waiting\n",
      "6d9f79e08353: Waiting\n",
      "e25f491d4d07: Preparing\n",
      "d4e4bcc6600a: Preparing\n",
      "ac727932f501: Preparing\n",
      "91e467465f83: Preparing\n",
      "d4e4bcc6600a: Waiting\n",
      "e25f491d4d07: Waiting\n",
      "ac727932f501: Waiting\n",
      "f07221d83cb4: Preparing\n",
      "91e467465f83: Waiting\n",
      "0477ec30c82a: Preparing\n",
      "5e099fd6def3: Preparing\n",
      "5d27dc224e7d: Preparing\n",
      "f07221d83cb4: Waiting\n",
      "0477ec30c82a: Waiting\n",
      "5e099fd6def3: Waiting\n",
      "7f4c37006064: Preparing\n",
      "f870ae874da9: Preparing\n",
      "5d27dc224e7d: Waiting\n",
      "6f37ca73c74f: Preparing\n",
      "7f4c37006064: Waiting\n",
      "6f37ca73c74f: Waiting\n",
      "f870ae874da9: Waiting\n",
      "372a9969cb16: Pushed\n",
      "8eb826a92851: Pushed\n",
      "3280f248c98d: Pushed\n",
      "e6ceb1f2e72b: Pushed\n",
      "14e4b062897a: Pushed\n",
      "6d9f79e08353: Pushed\n",
      "d4e4bcc6600a: Pushed\n",
      "ac727932f501: Pushed\n",
      "e99700231aa9: Pushed\n",
      "e25f491d4d07: Pushed\n",
      "91e467465f83: Pushed\n",
      "f07221d83cb4: Pushed\n",
      "5e099fd6def3: Pushed\n",
      "5d27dc224e7d: Pushed\n",
      "f870ae874da9: Pushed\n",
      "3048945286ee: Pushed\n",
      "6f37ca73c74f: Pushed\n",
      "0477ec30c82a: Pushed\n",
      "9f1b89b6c512: Pushed\n",
      "7f4c37006064: Pushed\n",
      "2.3.1: digest: sha256:88705a68d6eaca258d9c2b52e7e0d6f89edefbfe5d6ae32efe8dfd89154913bd size: 4529\n"
     ]
    }
   ],
   "source": [
    "!mlflow sagemaker build-and-push-container"
   ]
  },
  {
   "cell_type": "code",
   "execution_count": 7,
   "metadata": {
    "ExecuteTime": {
     "end_time": "2023-05-08T16:54:08.794116400Z",
     "start_time": "2023-05-08T16:54:08.622039300Z"
    }
   },
   "outputs": [],
   "source": [
    "# URL of the ECR-hosted Docker image the model should be deployed into\n",
    "image_uri = '118756721574.dkr.ecr.eu-west-2.amazonaws.com/mlflow-pyfunc:2.3.1'"
   ]
  },
  {
   "cell_type": "markdown",
   "metadata": {},
   "source": [
    "## Deploy a SageMaker endpoint with our scikit-learn model"
   ]
  },
  {
   "cell_type": "code",
   "execution_count": 8,
   "metadata": {
    "ExecuteTime": {
     "end_time": "2023-05-08T16:57:55.910131Z",
     "start_time": "2023-05-08T16:57:55.876618500Z"
    }
   },
   "outputs": [],
   "source": [
    "endpoint_name = 'boston-housing'\n",
    "# The location, in URI format, of the MLflow model to deploy to SageMaker.\n",
    "model_uri = 'models:/boston-housing/1'"
   ]
  },
  {
   "cell_type": "code",
   "execution_count": 9,
   "metadata": {
    "ExecuteTime": {
     "end_time": "2023-05-08T17:06:28.959019500Z",
     "start_time": "2023-05-08T16:58:48.277123300Z"
    }
   },
   "outputs": [
    {
     "name": "stderr",
     "output_type": "stream",
     "text": [
      "2023/05/08 17:59:48 INFO mlflow.sagemaker: Using the python_function flavor for deployment!\n",
      "2023/05/08 17:59:48 INFO mlflow.sagemaker: No model data bucket specified, using the default bucket\n",
      "2023/05/08 17:59:50 INFO mlflow.sagemaker: Default bucket `mlflow-sagemaker-eu-west-2-118756721574` not found. Creating...\n",
      "2023/05/08 17:59:52 INFO mlflow.sagemaker: Bucket creation response: {'ResponseMetadata': {'RequestId': '23HCBFVPXRANBCMW', 'HostId': 'w45PKfvcJpl9gztqmw+U9DUfwa/25y15VDURxQrPXmwkRlx0r/YNKQP3MFN+xs+hSWHLe1zgMBs=', 'HTTPStatusCode': 200, 'HTTPHeaders': {'x-amz-id-2': 'w45PKfvcJpl9gztqmw+U9DUfwa/25y15VDURxQrPXmwkRlx0r/YNKQP3MFN+xs+hSWHLe1zgMBs=', 'x-amz-request-id': '23HCBFVPXRANBCMW', 'date': 'Mon, 08 May 2023 16:59:52 GMT', 'location': 'http://mlflow-sagemaker-eu-west-2-118756721574.s3.amazonaws.com/', 'server': 'AmazonS3', 'content-length': '0'}, 'RetryAttempts': 0}, 'Location': 'http://mlflow-sagemaker-eu-west-2-118756721574.s3.amazonaws.com/'}\n",
      "2023/05/08 18:02:20 INFO mlflow.sagemaker: tag response: {'ResponseMetadata': {'RequestId': '6DB6N4DB53PKMAB1', 'HostId': 'hAnn8iNqz7SXuLb3j6jvkvcGJxmQR6jn9tM5sE5SrBKaFYt1tdztyojLCWy4owgRm2rllMztu0U=', 'HTTPStatusCode': 200, 'HTTPHeaders': {'x-amz-id-2': 'hAnn8iNqz7SXuLb3j6jvkvcGJxmQR6jn9tM5sE5SrBKaFYt1tdztyojLCWy4owgRm2rllMztu0U=', 'x-amz-request-id': '6DB6N4DB53PKMAB1', 'date': 'Mon, 08 May 2023 17:02:21 GMT', 'server': 'AmazonS3', 'content-length': '0'}, 'RetryAttempts': 0}}\n",
      "2023/05/08 18:02:20 INFO mlflow.sagemaker: Creating new endpoint with name: boston-housing ...\n",
      "2023/05/08 18:02:22 INFO mlflow.sagemaker: Created model with arn: arn:aws:sagemaker:eu-west-2:118756721574:model/boston-housing-model-48l8jkhaqcqgwqkknrs3ca\n",
      "2023/05/08 18:02:22 INFO mlflow.sagemaker: Created endpoint configuration with arn: arn:aws:sagemaker:eu-west-2:118756721574:endpoint-config/boston-housing-config-zq2faugzq3o2-dnqxa73nw\n",
      "2023/05/08 18:02:22 INFO mlflow.sagemaker: Created endpoint with arn: arn:aws:sagemaker:eu-west-2:118756721574:endpoint/boston-housing\n",
      "2023/05/08 18:02:22 INFO mlflow.sagemaker: Waiting for the deployment operation to complete...\n",
      "2023/05/08 18:02:22 INFO mlflow.sagemaker: Waiting for endpoint to reach the \"InService\" state. Current endpoint status: \"Creating\"\n",
      "2023/05/08 18:02:43 INFO mlflow.sagemaker: Waiting for endpoint to reach the \"InService\" state. Current endpoint status: \"Creating\"\n",
      "2023/05/08 18:03:03 INFO mlflow.sagemaker: Waiting for endpoint to reach the \"InService\" state. Current endpoint status: \"Creating\"\n",
      "2023/05/08 18:03:24 INFO mlflow.sagemaker: Waiting for endpoint to reach the \"InService\" state. Current endpoint status: \"Creating\"\n",
      "2023/05/08 18:03:44 INFO mlflow.sagemaker: Waiting for endpoint to reach the \"InService\" state. Current endpoint status: \"Creating\"\n",
      "2023/05/08 18:04:04 INFO mlflow.sagemaker: Waiting for endpoint to reach the \"InService\" state. Current endpoint status: \"Creating\"\n",
      "2023/05/08 18:04:25 INFO mlflow.sagemaker: Waiting for endpoint to reach the \"InService\" state. Current endpoint status: \"Creating\"\n",
      "2023/05/08 18:04:46 INFO mlflow.sagemaker: Waiting for endpoint to reach the \"InService\" state. Current endpoint status: \"Creating\"\n",
      "2023/05/08 18:05:06 INFO mlflow.sagemaker: Waiting for endpoint to reach the \"InService\" state. Current endpoint status: \"Creating\"\n",
      "2023/05/08 18:05:26 INFO mlflow.sagemaker: Waiting for endpoint to reach the \"InService\" state. Current endpoint status: \"Creating\"\n",
      "2023/05/08 18:05:47 INFO mlflow.sagemaker: Waiting for endpoint to reach the \"InService\" state. Current endpoint status: \"Creating\"\n",
      "2023/05/08 18:06:08 INFO mlflow.sagemaker: Waiting for endpoint to reach the \"InService\" state. Current endpoint status: \"Creating\"\n",
      "2023/05/08 18:06:28 INFO mlflow.sagemaker: The deployment operation completed successfully with message: \"The SageMaker endpoint was created successfully.\"\n"
     ]
    },
    {
     "data": {
      "text/plain": "{'name': 'boston-housing', 'flavor': 'python_function'}"
     },
     "execution_count": 9,
     "metadata": {},
     "output_type": "execute_result"
    }
   ],
   "source": [
    "config={\n",
    "    'execution_role_arn': role,\n",
    "    'image_url': image_uri,\n",
    "    'instance_type': 'ml.m5.xlarge',\n",
    "    'instance_count': 1, \n",
    "    'region_name': region\n",
    "}\n",
    "\n",
    "client = get_deploy_client(\"sagemaker\")\n",
    "\n",
    "client.create_deployment(\n",
    "    name=endpoint_name,\n",
    "    model_uri=model_uri,\n",
    "    flavor='python_function',\n",
    "    config=config\n",
    ")"
   ]
  },
  {
   "cell_type": "markdown",
   "metadata": {},
   "source": [
    "## Predict"
   ]
  },
  {
   "cell_type": "code",
   "execution_count": 10,
   "metadata": {
    "scrolled": true,
    "ExecuteTime": {
     "end_time": "2023-05-08T17:07:26.509813700Z",
     "start_time": "2023-05-08T17:07:26.304566500Z"
    }
   },
   "outputs": [],
   "source": [
    "# load boston dataset\n",
    "data = fetch_california_housing()\n",
    "df = pd.DataFrame(data.data, columns=data.feature_names)"
   ]
  },
  {
   "cell_type": "code",
   "execution_count": 11,
   "metadata": {
    "ExecuteTime": {
     "end_time": "2023-05-08T17:07:31.950996700Z",
     "start_time": "2023-05-08T17:07:31.359325400Z"
    }
   },
   "outputs": [
    {
     "name": "stdout",
     "output_type": "stream",
     "text": [
      "Payload:    MedInc  HouseAge  AveRooms  AveBedrms  Population  AveOccup  Latitude   \n",
      "0  8.3252      41.0  6.984127    1.02381       322.0  2.555556     37.88  \\\n",
      "\n",
      "   Longitude  \n",
      "0    -122.23  \n",
      "Prediction: {'predictions': [4.2108459375]}\n"
     ]
    }
   ],
   "source": [
    "client = get_deploy_client(f\"sagemaker:/{region}\")\n",
    "\n",
    "payload = df.iloc[[0]]\n",
    "prediction = client.predict(endpoint_name, df.iloc[[0]])\n",
    "\n",
    "print(f'Payload: {payload}')\n",
    "print(f'Prediction: {prediction}')"
   ]
  },
  {
   "cell_type": "markdown",
   "metadata": {},
   "source": [
    "## Delete endpoint"
   ]
  },
  {
   "cell_type": "code",
   "execution_count": 12,
   "metadata": {
    "ExecuteTime": {
     "end_time": "2023-05-08T17:07:50.167849700Z",
     "start_time": "2023-05-08T17:07:43.802598600Z"
    }
   },
   "outputs": [
    {
     "name": "stderr",
     "output_type": "stream",
     "text": [
      "2023/05/08 18:07:44 INFO mlflow.sagemaker: Deleted endpoint with arn: arn:aws:sagemaker:eu-west-2:118756721574:endpoint/boston-housing\n",
      "2023/05/08 18:07:44 INFO mlflow.sagemaker: Waiting for the delete operation to complete...\n",
      "2023/05/08 18:07:44 INFO mlflow.sagemaker: Deletion is still in progress. Current endpoint status: Deleting\n",
      "2023/05/08 18:07:49 INFO mlflow.sagemaker: The deletion operation completed successfully with message: \"The SageMaker endpoint was deleted successfully.\"\n",
      "2023/05/08 18:07:49 INFO mlflow.sagemaker: Cleaning up unused resources...\n",
      "2023/05/08 18:07:49 INFO mlflow.sagemaker: Deleted associated endpoint configuration with arn: arn:aws:sagemaker:eu-west-2:118756721574:endpoint-config/boston-housing-config-zq2faugzq3o2-dnqxa73nw\n",
      "2023/05/08 18:07:50 INFO mlflow.sagemaker: Deleted associated model with arn: arn:aws:sagemaker:eu-west-2:118756721574:model/boston-housing-model-48l8jkhaqcqgwqkknrs3ca\n"
     ]
    }
   ],
   "source": [
    "client.delete_deployment(endpoint_name, config=config)"
   ]
  },
  {
   "cell_type": "code",
   "execution_count": null,
   "metadata": {},
   "outputs": [],
   "source": []
  }
 ],
 "metadata": {
  "kernelspec": {
   "name": "python3",
   "language": "python",
   "display_name": "Python 3 (ipykernel)"
  },
  "language_info": {
   "codemirror_mode": {
    "name": "ipython",
    "version": 3
   },
   "file_extension": ".py",
   "mimetype": "text/x-python",
   "name": "python",
   "nbconvert_exporter": "python",
   "pygments_lexer": "ipython3",
   "version": "3.8.12"
  },
  "notice": "Copyright 2017 Amazon.com, Inc. or its affiliates. All Rights Reserved.  Licensed under the Apache License, Version 2.0 (the \"License\"). You may not use this file except in compliance with the License. A copy of the License is located at http://aws.amazon.com/apache2.0/ or in the \"license\" file accompanying this file. This file is distributed on an \"AS IS\" BASIS, WITHOUT WARRANTIES OR CONDITIONS OF ANY KIND, either express or implied. See the License for the specific language governing permissions and limitations under the License."
 },
 "nbformat": 4,
 "nbformat_minor": 2
}
