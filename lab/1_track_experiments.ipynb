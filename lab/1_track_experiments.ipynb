{
 "cells": [
  {
   "cell_type": "markdown",
   "metadata": {},
   "source": [
    "# Train a Scikit-Learn model in SageMaker and track with MLFlow"
   ]
  },
  {
   "cell_type": "markdown",
   "metadata": {},
   "source": [
    "## Setup Environment"
   ]
  },
  {
   "cell_type": "code",
   "execution_count": null,
   "metadata": {},
   "outputs": [],
   "source": [
    "# !pip install -q --upgrade pip\n",
    "# !pip install -q --upgrade sagemaker==2.117.0"
   ]
  },
  {
   "cell_type": "code",
   "execution_count": 45,
   "metadata": {
    "ExecuteTime": {
     "end_time": "2023-05-05T13:40:26.295694300Z",
     "start_time": "2023-05-05T13:40:21.405278800Z"
    }
   },
   "outputs": [
    {
     "name": "stderr",
     "output_type": "stream",
     "text": [
      "WARNING:sagemaker:Couldn't call 'get_role' to get Role ARN from role name junchitan to get Role path.\n"
     ]
    }
   ],
   "source": [
    "import sagemaker\n",
    "import pandas as pd\n",
    "from sklearn.datasets import fetch_california_housing\n",
    "from sagemaker.sklearn.estimator import SKLearn\n",
    "from sklearn.model_selection import train_test_split\n",
    "import boto3\n",
    "\n",
    "sess = sagemaker.Session()\n",
    "bucket = sess.default_bucket()\n",
    "# role = sagemaker.get_execution_role()\n",
    "try:\n",
    "    role = sagemaker.get_execution_role()\n",
    "except ValueError:\n",
    "    iam = boto3.client('iam')\n",
    "    role = iam.get_role(RoleName='sm_execution')['Role']['Arn']\n",
    "\n",
    "# uri of your remote mlflow server\n",
    "tracking_uri = 'mlflo-mlflo-bzup59rprwdi-206c68add5dac1b3.elb.eu-west-2.amazonaws.com'"
   ]
  },
  {
   "cell_type": "markdown",
   "metadata": {},
   "source": [
    "## Prepare data\n",
    "We load a dataset from sklearn, split it and send it to S3"
   ]
  },
  {
   "cell_type": "code",
   "execution_count": 40,
   "metadata": {
    "ExecuteTime": {
     "end_time": "2023-05-05T12:55:01.100015900Z",
     "start_time": "2023-05-05T12:55:00.368656400Z"
    }
   },
   "outputs": [],
   "source": [
    "# we use the Boston housing dataset \n",
    "data = fetch_california_housing()\n",
    "\n",
    "X_train, X_test, y_train, y_test = train_test_split(data.data, data.target, test_size=0.25, random_state=42)\n",
    "\n",
    "trainX = pd.DataFrame(X_train, columns=data.feature_names)\n",
    "trainX['target'] = y_train\n",
    "\n",
    "testX = pd.DataFrame(X_test, columns=data.feature_names)\n",
    "testX['target'] = y_test\n",
    "\n",
    "trainX.to_csv('boston_train.csv')\n",
    "testX.to_csv('boston_test.csv')"
   ]
  },
  {
   "cell_type": "code",
   "execution_count": 41,
   "metadata": {
    "ExecuteTime": {
     "end_time": "2023-05-05T12:55:06.254902300Z",
     "start_time": "2023-05-05T12:55:04.796714500Z"
    }
   },
   "outputs": [],
   "source": [
    "# send data to S3. SageMaker will take training data from s3\n",
    "train_path = sess.upload_data(path='boston_train.csv', bucket=bucket, key_prefix='sagemaker/sklearncontainer')\n",
    "test_path = sess.upload_data(path='boston_test.csv', bucket=bucket, key_prefix='sagemaker/sklearncontainer')"
   ]
  },
  {
   "cell_type": "markdown",
   "metadata": {},
   "source": [
    "## Train"
   ]
  },
  {
   "cell_type": "code",
   "execution_count": 47,
   "metadata": {
    "ExecuteTime": {
     "end_time": "2023-05-05T13:40:49.941265200Z",
     "start_time": "2023-05-05T13:40:43.220008600Z"
    }
   },
   "outputs": [],
   "source": [
    "hyperparameters = {\n",
    "    'tracking_uri': tracking_uri,\n",
    "    'experiment_name': 'boston-housing',\n",
    "    'n-estimators': 100,\n",
    "    'min-samples-leaf': 3,\n",
    "    'features': 'MedInc HouseAge AveRooms AveBedrms Population AveOccup Latitude Longitude',\n",
    "    'target': 'target'\n",
    "}\n",
    "\n",
    "metric_definitions = [{'Name': 'median-AE', 'Regex': \"AE-at-50th-percentile: ([0-9.]+).*$\"}]\n",
    "\n",
    "estimator = SKLearn(\n",
    "    entry_point='train.py',\n",
    "    source_dir='source_dir',\n",
    "    role=role,\n",
    "    metric_definitions=metric_definitions,\n",
    "    hyperparameters=hyperparameters,\n",
    "    instance_count=1,\n",
    "    instance_type='ml.m5.xlarge',\n",
    "    framework_version='1.0-1',\n",
    "    base_job_name='mlflow',\n",
    ")"
   ]
  },
  {
   "cell_type": "code",
   "execution_count": 48,
   "metadata": {
    "scrolled": true,
    "ExecuteTime": {
     "end_time": "2023-05-05T13:44:07.248931500Z",
     "start_time": "2023-05-05T13:40:51.573101800Z"
    }
   },
   "outputs": [
    {
     "name": "stdout",
     "output_type": "stream",
     "text": [
      "Using provided s3_resource\n"
     ]
    },
    {
     "name": "stderr",
     "output_type": "stream",
     "text": [
      "INFO:sagemaker:Creating training-job with name: mlflow-2023-05-05-13-40-51-573\n"
     ]
    },
    {
     "name": "stdout",
     "output_type": "stream",
     "text": [
      "2023-05-05 13:39:56 Starting - Starting the training job...\n",
      "2023-05-05 13:40:15 Starting - Preparing the instances for training......\n",
      "2023-05-05 13:41:27 Downloading - Downloading input data\n",
      "2023-05-05 13:41:27 Training - Downloading the training image...\n",
      "2023-05-05 13:41:58 Training - Training image download completed. Training in progress...\u001B[34m2023-05-05 13:42:05,071 sagemaker-containers INFO     Imported framework sagemaker_sklearn_container.training\u001B[0m\n",
      "\u001B[34m2023-05-05 13:42:05,074 sagemaker-training-toolkit INFO     No GPUs detected (normal if no gpus installed)\u001B[0m\n",
      "\u001B[34m2023-05-05 13:42:05,083 sagemaker_sklearn_container.training INFO     Invoking user training script.\u001B[0m\n",
      "\u001B[34m2023-05-05 13:42:05,286 sagemaker-training-toolkit INFO     Installing module with the following command:\u001B[0m\n",
      "\u001B[34m/miniconda3/bin/python -m pip install . -r requirements.txt\u001B[0m\n",
      "\u001B[34mProcessing /opt/ml/code\n",
      "  Preparing metadata (setup.py): started\u001B[0m\n",
      "\u001B[34m  Preparing metadata (setup.py): finished with status 'done'\u001B[0m\n",
      "\u001B[34mCollecting mlflow==2.3.1\n",
      "  Downloading mlflow-2.3.1-py3-none-any.whl (17.7 MB)\n",
      "     ━━━━━━━━━━━━━━━━━━━━━━━━━━━━━━━━━━━━━━━━ 17.7/17.7 MB 71.3 MB/s eta 0:00:00\u001B[0m\n",
      "\u001B[34mRequirement already satisfied: Flask<3 in /miniconda3/lib/python3.8/site-packages (from mlflow==2.3.1->-r requirements.txt (line 1)) (1.1.1)\u001B[0m\n",
      "\u001B[34mCollecting sqlalchemy<3,>=1.4.0\n",
      "  Downloading SQLAlchemy-2.0.12-cp38-cp38-manylinux_2_17_x86_64.manylinux2014_x86_64.whl (2.8 MB)\n",
      "     ━━━━━━━━━━━━━━━━━━━━━━━━━━━━━━━━━━━━━━━━ 2.8/2.8 MB 102.6 MB/s eta 0:00:00\u001B[0m\n",
      "\u001B[34mCollecting databricks-cli<1,>=0.8.7\n",
      "  Downloading databricks-cli-0.17.6.tar.gz (82 kB)\n",
      "     ━━━━━━━━━━━━━━━━━━━━━━━━━━━━━━━━━━━━━━━━ 82.7/82.7 kB 17.7 MB/s eta 0:00:00\n",
      "  Preparing metadata (setup.py): started\n",
      "  Preparing metadata (setup.py): finished with status 'done'\u001B[0m\n",
      "\u001B[34mRequirement already satisfied: pytz<2024 in /miniconda3/lib/python3.8/site-packages (from mlflow==2.3.1->-r requirements.txt (line 1)) (2022.7.1)\u001B[0m\n",
      "\u001B[34mRequirement already satisfied: scipy<2 in /miniconda3/lib/python3.8/site-packages (from mlflow==2.3.1->-r requirements.txt (line 1)) (1.5.3)\u001B[0m\n",
      "\u001B[34mRequirement already satisfied: click<9,>=7.0 in /miniconda3/lib/python3.8/site-packages (from mlflow==2.3.1->-r requirements.txt (line 1)) (8.1.3)\u001B[0m\n",
      "\u001B[34mCollecting alembic!=1.10.0,<2\n",
      "  Downloading alembic-1.10.4-py3-none-any.whl (212 kB)\n",
      "     ━━━━━━━━━━━━━━━━━━━━━━━━━━━━━━━━━━━━━━ 212.9/212.9 kB 38.6 MB/s eta 0:00:00\u001B[0m\n",
      "\u001B[34mRequirement already satisfied: gunicorn<21 in /miniconda3/lib/python3.8/site-packages (from mlflow==2.3.1->-r requirements.txt (line 1)) (20.0.4)\u001B[0m\n",
      "\u001B[34mCollecting packaging<24\n",
      "  Downloading packaging-23.1-py3-none-any.whl (48 kB)\n",
      "     ━━━━━━━━━━━━━━━━━━━━━━━━━━━━━━━━━━━━━━━━ 48.9/48.9 kB 12.3 MB/s eta 0:00:00\u001B[0m\n",
      "\u001B[34mCollecting pyyaml<7,>=5.1\n",
      "  Downloading PyYAML-6.0-cp38-cp38-manylinux_2_5_x86_64.manylinux1_x86_64.manylinux_2_12_x86_64.manylinux2010_x86_64.whl (701 kB)\n",
      "     ━━━━━━━━━━━━━━━━━━━━━━━━━━━━━━━━━━━━━━ 701.2/701.2 kB 77.4 MB/s eta 0:00:00\u001B[0m\n",
      "\u001B[34mCollecting docker<7,>=4.0.0\n",
      "  Downloading docker-6.0.1-py3-none-any.whl (147 kB)\n",
      "     ━━━━━━━━━━━━━━━━━━━━━━━━━━━━━━━━━━━━━━ 147.5/147.5 kB 32.7 MB/s eta 0:00:00\u001B[0m\n",
      "\u001B[34mCollecting querystring-parser<2\n",
      "  Downloading querystring_parser-1.2.4-py2.py3-none-any.whl (7.9 kB)\u001B[0m\n",
      "\u001B[34mRequirement already satisfied: scikit-learn<2 in /miniconda3/lib/python3.8/site-packages (from mlflow==2.3.1->-r requirements.txt (line 1)) (1.0.2)\u001B[0m\n",
      "\u001B[34mCollecting importlib-metadata!=4.7.0,<7,>=3.7.0\n",
      "  Downloading importlib_metadata-6.6.0-py3-none-any.whl (22 kB)\u001B[0m\n",
      "\u001B[34mRequirement already satisfied: requests<3,>=2.17.3 in /miniconda3/lib/python3.8/site-packages (from mlflow==2.3.1->-r requirements.txt (line 1)) (2.28.1)\u001B[0m\n",
      "\u001B[34mRequirement already satisfied: pyarrow<12,>=4.0.0 in /miniconda3/lib/python3.8/site-packages (from mlflow==2.3.1->-r requirements.txt (line 1)) (10.0.1)\u001B[0m\n",
      "\u001B[34mCollecting matplotlib<4\n",
      "  Downloading matplotlib-3.7.1-cp38-cp38-manylinux_2_12_x86_64.manylinux2010_x86_64.whl (9.2 MB)\n",
      "     ━━━━━━━━━━━━━━━━━━━━━━━━━━━━━━━━━━━━━━━━ 9.2/9.2 MB 102.6 MB/s eta 0:00:00\u001B[0m\n",
      "\u001B[34mCollecting gitpython<4,>=2.1.0\n",
      "  Downloading GitPython-3.1.31-py3-none-any.whl (184 kB)\n",
      "     ━━━━━━━━━━━━━━━━━━━━━━━━━━━━━━━━━━━━━━ 184.3/184.3 kB 42.0 MB/s eta 0:00:00\u001B[0m\n",
      "\u001B[34mRequirement already satisfied: protobuf<5,>=3.12.0 in /miniconda3/lib/python3.8/site-packages (from mlflow==2.3.1->-r requirements.txt (line 1)) (3.20.2)\u001B[0m\n",
      "\u001B[34mCollecting sqlparse<1,>=0.4.0\n",
      "  Downloading sqlparse-0.4.4-py3-none-any.whl (41 kB)\n",
      "     ━━━━━━━━━━━━━━━━━━━━━━━━━━━━━━━━━━━━━━━━ 41.2/41.2 kB 10.7 MB/s eta 0:00:00\u001B[0m\n",
      "\u001B[34mRequirement already satisfied: numpy<2 in /miniconda3/lib/python3.8/site-packages (from mlflow==2.3.1->-r requirements.txt (line 1)) (1.24.1)\u001B[0m\n",
      "\u001B[34mCollecting cloudpickle<3\n",
      "  Downloading cloudpickle-2.2.1-py3-none-any.whl (25 kB)\u001B[0m\n",
      "\u001B[34mRequirement already satisfied: pandas<3 in /miniconda3/lib/python3.8/site-packages (from mlflow==2.3.1->-r requirements.txt (line 1)) (1.1.3)\u001B[0m\n",
      "\u001B[34mCollecting entrypoints<1\n",
      "  Downloading entrypoints-0.4-py3-none-any.whl (5.3 kB)\u001B[0m\n",
      "\u001B[34mRequirement already satisfied: Jinja2<4,>=2.11 in /miniconda3/lib/python3.8/site-packages (from mlflow==2.3.1->-r requirements.txt (line 1)) (3.0.3)\u001B[0m\n",
      "\u001B[34mCollecting markdown<4,>=3.3\n",
      "  Downloading Markdown-3.4.3-py3-none-any.whl (93 kB)\n",
      "     ━━━━━━━━━━━━━━━━━━━━━━━━━━━━━━━━━━━━━━━━ 93.9/93.9 kB 24.6 MB/s eta 0:00:00\u001B[0m\n",
      "\u001B[34mCollecting Mako\n",
      "  Downloading Mako-1.2.4-py3-none-any.whl (78 kB)\n",
      "     ━━━━━━━━━━━━━━━━━━━━━━━━━━━━━━━━━━━━━━━━ 78.7/78.7 kB 22.1 MB/s eta 0:00:00\u001B[0m\n",
      "\u001B[34mCollecting importlib-resources\n",
      "  Downloading importlib_resources-5.12.0-py3-none-any.whl (36 kB)\u001B[0m\n",
      "\u001B[34mCollecting typing-extensions>=4\n",
      "  Downloading typing_extensions-4.5.0-py3-none-any.whl (27 kB)\u001B[0m\n",
      "\u001B[34mCollecting pyjwt>=1.7.0\n",
      "  Downloading PyJWT-2.6.0-py3-none-any.whl (20 kB)\u001B[0m\n",
      "\u001B[34mCollecting oauthlib>=3.1.0\n",
      "  Downloading oauthlib-3.2.2-py3-none-any.whl (151 kB)\n",
      "     ━━━━━━━━━━━━━━━━━━━━━━━━━━━━━━━━━━━━━━ 151.7/151.7 kB 30.8 MB/s eta 0:00:00\u001B[0m\n",
      "\u001B[34mCollecting tabulate>=0.7.7\n",
      "  Downloading tabulate-0.9.0-py3-none-any.whl (35 kB)\u001B[0m\n",
      "\u001B[34mRequirement already satisfied: six>=1.10.0 in /miniconda3/lib/python3.8/site-packages (from databricks-cli<1,>=0.8.7->mlflow==2.3.1->-r requirements.txt (line 1)) (1.15.0)\u001B[0m\n",
      "\u001B[34mRequirement already satisfied: urllib3>=1.26.0 in /miniconda3/lib/python3.8/site-packages (from docker<7,>=4.0.0->mlflow==2.3.1->-r requirements.txt (line 1)) (1.26.14)\u001B[0m\n",
      "\u001B[34mCollecting websocket-client>=0.32.0\n",
      "  Downloading websocket_client-1.5.1-py3-none-any.whl (55 kB)\n",
      "     ━━━━━━━━━━━━━━━━━━━━━━━━━━━━━━━━━━━━━━━━ 55.9/55.9 kB 15.5 MB/s eta 0:00:00\u001B[0m\n",
      "\u001B[34mRequirement already satisfied: Werkzeug>=0.15 in /miniconda3/lib/python3.8/site-packages (from Flask<3->mlflow==2.3.1->-r requirements.txt (line 1)) (0.15.6)\u001B[0m\n",
      "\u001B[34mRequirement already satisfied: itsdangerous>=0.24 in /miniconda3/lib/python3.8/site-packages (from Flask<3->mlflow==2.3.1->-r requirements.txt (line 1)) (2.0.1)\u001B[0m\n",
      "\u001B[34mCollecting gitdb<5,>=4.0.1\n",
      "  Downloading gitdb-4.0.10-py3-none-any.whl (62 kB)\n",
      "     ━━━━━━━━━━━━━━━━━━━━━━━━━━━━━━━━━━━━━━━━ 62.7/62.7 kB 16.0 MB/s eta 0:00:00\u001B[0m\n",
      "\u001B[34mRequirement already satisfied: setuptools>=3.0 in /miniconda3/lib/python3.8/site-packages (from gunicorn<21->mlflow==2.3.1->-r requirements.txt (line 1)) (65.5.1)\u001B[0m\n",
      "\u001B[34mCollecting zipp>=0.5\n",
      "  Downloading zipp-3.15.0-py3-none-any.whl (6.8 kB)\u001B[0m\n",
      "\u001B[34mRequirement already satisfied: MarkupSafe>=2.0 in /miniconda3/lib/python3.8/site-packages (from Jinja2<4,>=2.11->mlflow==2.3.1->-r requirements.txt (line 1)) (2.1.1)\u001B[0m\n",
      "\u001B[34mCollecting contourpy>=1.0.1\n",
      "  Downloading contourpy-1.0.7-cp38-cp38-manylinux_2_17_x86_64.manylinux2014_x86_64.whl (300 kB)\n",
      "     ━━━━━━━━━━━━━━━━━━━━━━━━━━━━━━━━━━━━━━ 300.0/300.0 kB 49.5 MB/s eta 0:00:00\u001B[0m\n",
      "\u001B[34mCollecting fonttools>=4.22.0\n",
      "  Downloading fonttools-4.39.3-py3-none-any.whl (1.0 MB)\n",
      "     ━━━━━━━━━━━━━━━━━━━━━━━━━━━━━━━━━━━━━━━━ 1.0/1.0 MB 82.6 MB/s eta 0:00:00\u001B[0m\n",
      "\u001B[34mRequirement already satisfied: pillow>=6.2.0 in /miniconda3/lib/python3.8/site-packages (from matplotlib<4->mlflow==2.3.1->-r requirements.txt (line 1)) (9.4.0)\u001B[0m\n",
      "\u001B[34mRequirement already satisfied: python-dateutil>=2.7 in /miniconda3/lib/python3.8/site-packages (from matplotlib<4->mlflow==2.3.1->-r requirements.txt (line 1)) (2.8.1)\u001B[0m\n",
      "\u001B[34mCollecting kiwisolver>=1.0.1\n",
      "  Downloading kiwisolver-1.4.4-cp38-cp38-manylinux_2_5_x86_64.manylinux1_x86_64.whl (1.2 MB)\n",
      "     ━━━━━━━━━━━━━━━━━━━━━━━━━━━━━━━━━━━━━━━━ 1.2/1.2 MB 88.1 MB/s eta 0:00:00\u001B[0m\n",
      "\u001B[34mCollecting cycler>=0.10\n",
      "  Downloading cycler-0.11.0-py3-none-any.whl (6.4 kB)\u001B[0m\n",
      "\u001B[34mCollecting pyparsing>=2.3.1\n",
      "  Downloading pyparsing-3.0.9-py3-none-any.whl (98 kB)\n",
      "     ━━━━━━━━━━━━━━━━━━━━━━━━━━━━━━━━━━━━━━━━ 98.3/98.3 kB 21.6 MB/s eta 0:00:00\u001B[0m\n",
      "\u001B[34mRequirement already satisfied: idna<4,>=2.5 in /miniconda3/lib/python3.8/site-packages (from requests<3,>=2.17.3->mlflow==2.3.1->-r requirements.txt (line 1)) (3.4)\u001B[0m\n",
      "\u001B[34mRequirement already satisfied: certifi>=2017.4.17 in /miniconda3/lib/python3.8/site-packages (from requests<3,>=2.17.3->mlflow==2.3.1->-r requirements.txt (line 1)) (2022.12.7)\u001B[0m\n",
      "\u001B[34mRequirement already satisfied: charset-normalizer<3,>=2 in /miniconda3/lib/python3.8/site-packages (from requests<3,>=2.17.3->mlflow==2.3.1->-r requirements.txt (line 1)) (2.0.4)\u001B[0m\n",
      "\u001B[34mRequirement already satisfied: threadpoolctl>=2.0.0 in /miniconda3/lib/python3.8/site-packages (from scikit-learn<2->mlflow==2.3.1->-r requirements.txt (line 1)) (3.1.0)\u001B[0m\n",
      "\u001B[34mRequirement already satisfied: joblib>=0.11 in /miniconda3/lib/python3.8/site-packages (from scikit-learn<2->mlflow==2.3.1->-r requirements.txt (line 1)) (1.2.0)\u001B[0m\n",
      "\u001B[34mRequirement already satisfied: greenlet!=0.4.17 in /miniconda3/lib/python3.8/site-packages (from sqlalchemy<3,>=1.4.0->mlflow==2.3.1->-r requirements.txt (line 1)) (2.0.2)\u001B[0m\n",
      "\u001B[34mCollecting smmap<6,>=3.0.1\n",
      "  Downloading smmap-5.0.0-py3-none-any.whl (24 kB)\u001B[0m\n",
      "\u001B[34mBuilding wheels for collected packages: sagemaker-example, databricks-cli\n",
      "  Building wheel for sagemaker-example (setup.py): started\n",
      "  Building wheel for sagemaker-example (setup.py): finished with status 'done'\n",
      "  Created wheel for sagemaker-example: filename=sagemaker_example-1.0-py3-none-any.whl size=1071 sha256=a50d578afb9ea4055c92a30a6310a8186be70002bfc79a05308a1b1a32441250\n",
      "  Stored in directory: /home/model-server/tmp/pip-ephem-wheel-cache-_x4_1nb0/wheels/f3/75/57/158162e9eab7af12b5c338c279b3a81f103b89d74eeb911c00\n",
      "  Building wheel for databricks-cli (setup.py): started\u001B[0m\n",
      "\u001B[34m  Building wheel for databricks-cli (setup.py): finished with status 'done'\n",
      "  Created wheel for databricks-cli: filename=databricks_cli-0.17.6-py3-none-any.whl size=143220 sha256=b131d0e0b3f607d65bfbed82738cc2cdfae3672ac29ea308b4e09ad4cda41e27\n",
      "  Stored in directory: /root/.cache/pip/wheels/b5/8c/5a/7fc79f35b90e8e526564bd3a98db9e011ee88b27b616eafa0e\u001B[0m\n",
      "\u001B[34mSuccessfully built sagemaker-example databricks-cli\u001B[0m\n",
      "\u001B[34mInstalling collected packages: sagemaker-example, zipp, websocket-client, typing-extensions, tabulate, sqlparse, smmap, querystring-parser, pyyaml, pyparsing, pyjwt, packaging, oauthlib, Mako, kiwisolver, fonttools, entrypoints, cycler, contourpy, cloudpickle, sqlalchemy, importlib-resources, importlib-metadata, gitdb, docker, databricks-cli, matplotlib, markdown, gitpython, alembic, mlflow\u001B[0m\n",
      "\n",
      "2023-05-05 13:42:28 Uploading - Uploading generated training model\u001B[34mSuccessfully installed Mako-1.2.4 alembic-1.10.4 cloudpickle-2.2.1 contourpy-1.0.7 cycler-0.11.0 databricks-cli-0.17.6 docker-6.0.1 entrypoints-0.4 fonttools-4.39.3 gitdb-4.0.10 gitpython-3.1.31 importlib-metadata-6.6.0 importlib-resources-5.12.0 kiwisolver-1.4.4 markdown-3.4.3 matplotlib-3.7.1 mlflow-2.3.1 oauthlib-3.2.2 packaging-23.1 pyjwt-2.6.0 pyparsing-3.0.9 pyyaml-6.0 querystring-parser-1.2.4 sagemaker-example-1.0 smmap-5.0.0 sqlalchemy-2.0.12 sqlparse-0.4.4 tabulate-0.9.0 typing-extensions-4.5.0 websocket-client-1.5.1 zipp-3.15.0\u001B[0m\n",
      "\u001B[34mWARNING: Running pip as the 'root' user can result in broken permissions and conflicting behaviour with the system package manager. It is recommended to use a virtual environment instead: https://pip.pypa.io/warnings/venv\u001B[0m\n",
      "\u001B[34m[notice] A new release of pip is available: 23.0.1 -> 23.1.2\u001B[0m\n",
      "\u001B[34m[notice] To update, run: pip install --upgrade pip\u001B[0m\n",
      "\u001B[34m2023-05-05 13:42:15,243 sagemaker-training-toolkit INFO     No GPUs detected (normal if no gpus installed)\u001B[0m\n",
      "\u001B[34m2023-05-05 13:42:15,255 sagemaker-training-toolkit INFO     No GPUs detected (normal if no gpus installed)\u001B[0m\n",
      "\u001B[34m2023-05-05 13:42:15,268 sagemaker-training-toolkit INFO     No GPUs detected (normal if no gpus installed)\u001B[0m\n",
      "\u001B[34m2023-05-05 13:42:15,276 sagemaker-training-toolkit INFO     Invoking user script\u001B[0m\n",
      "\u001B[34mTraining Env:\u001B[0m\n",
      "\u001B[34m{\n",
      "    \"additional_framework_parameters\": {},\n",
      "    \"channel_input_dirs\": {\n",
      "        \"test\": \"/opt/ml/input/data/test\",\n",
      "        \"train\": \"/opt/ml/input/data/train\"\n",
      "    },\n",
      "    \"current_host\": \"algo-1\",\n",
      "    \"framework_module\": \"sagemaker_sklearn_container.training:main\",\n",
      "    \"hosts\": [\n",
      "        \"algo-1\"\n",
      "    ],\n",
      "    \"hyperparameters\": {\n",
      "        \"experiment_name\": \"boston-housing\",\n",
      "        \"features\": \"MedInc HouseAge AveRooms AveBedrms Population AveOccup Latitude Longitude\",\n",
      "        \"min-samples-leaf\": 3,\n",
      "        \"n-estimators\": 100,\n",
      "        \"target\": \"target\",\n",
      "        \"tracking_uri\": \"mlflo-mlflo-bzup59rprwdi-206c68add5dac1b3.elb.eu-west-2.amazonaws.com\"\n",
      "    },\n",
      "    \"input_config_dir\": \"/opt/ml/input/config\",\n",
      "    \"input_data_config\": {\n",
      "        \"test\": {\n",
      "            \"TrainingInputMode\": \"File\",\n",
      "            \"S3DistributionType\": \"FullyReplicated\",\n",
      "            \"RecordWrapperType\": \"None\"\n",
      "        },\n",
      "        \"train\": {\n",
      "            \"TrainingInputMode\": \"File\",\n",
      "            \"S3DistributionType\": \"FullyReplicated\",\n",
      "            \"RecordWrapperType\": \"None\"\n",
      "        }\n",
      "    },\n",
      "    \"input_dir\": \"/opt/ml/input\",\n",
      "    \"is_master\": true,\n",
      "    \"job_name\": \"mlflow-2023-05-05-13-40-51-573\",\n",
      "    \"log_level\": 20,\n",
      "    \"master_hostname\": \"algo-1\",\n",
      "    \"model_dir\": \"/opt/ml/model\",\n",
      "    \"module_dir\": \"s3://sagemaker-eu-west-2-118756721574/mlflow-2023-05-05-13-40-51-573/source/sourcedir.tar.gz\",\n",
      "    \"module_name\": \"train\",\n",
      "    \"network_interface_name\": \"eth0\",\n",
      "    \"num_cpus\": 4,\n",
      "    \"num_gpus\": 0,\n",
      "    \"output_data_dir\": \"/opt/ml/output/data\",\n",
      "    \"output_dir\": \"/opt/ml/output\",\n",
      "    \"output_intermediate_dir\": \"/opt/ml/output/intermediate\",\n",
      "    \"resource_config\": {\n",
      "        \"current_host\": \"algo-1\",\n",
      "        \"current_instance_type\": \"ml.m5.xlarge\",\n",
      "        \"current_group_name\": \"homogeneousCluster\",\n",
      "        \"hosts\": [\n",
      "            \"algo-1\"\n",
      "        ],\n",
      "        \"instance_groups\": [\n",
      "            {\n",
      "                \"instance_group_name\": \"homogeneousCluster\",\n",
      "                \"instance_type\": \"ml.m5.xlarge\",\n",
      "                \"hosts\": [\n",
      "                    \"algo-1\"\n",
      "                ]\n",
      "            }\n",
      "        ],\n",
      "        \"network_interface_name\": \"eth0\"\n",
      "    },\n",
      "    \"user_entry_point\": \"train.py\"\u001B[0m\n",
      "\u001B[34m}\u001B[0m\n",
      "\u001B[34mEnvironment variables:\u001B[0m\n",
      "\u001B[34mSM_HOSTS=[\"algo-1\"]\u001B[0m\n",
      "\u001B[34mSM_NETWORK_INTERFACE_NAME=eth0\u001B[0m\n",
      "\u001B[34mSM_HPS={\"experiment_name\":\"boston-housing\",\"features\":\"MedInc HouseAge AveRooms AveBedrms Population AveOccup Latitude Longitude\",\"min-samples-leaf\":3,\"n-estimators\":100,\"target\":\"target\",\"tracking_uri\":\"mlflo-mlflo-bzup59rprwdi-206c68add5dac1b3.elb.eu-west-2.amazonaws.com\"}\u001B[0m\n",
      "\u001B[34mSM_USER_ENTRY_POINT=train.py\u001B[0m\n",
      "\u001B[34mSM_FRAMEWORK_PARAMS={}\u001B[0m\n",
      "\u001B[34mSM_RESOURCE_CONFIG={\"current_group_name\":\"homogeneousCluster\",\"current_host\":\"algo-1\",\"current_instance_type\":\"ml.m5.xlarge\",\"hosts\":[\"algo-1\"],\"instance_groups\":[{\"hosts\":[\"algo-1\"],\"instance_group_name\":\"homogeneousCluster\",\"instance_type\":\"ml.m5.xlarge\"}],\"network_interface_name\":\"eth0\"}\u001B[0m\n",
      "\u001B[34mSM_INPUT_DATA_CONFIG={\"test\":{\"RecordWrapperType\":\"None\",\"S3DistributionType\":\"FullyReplicated\",\"TrainingInputMode\":\"File\"},\"train\":{\"RecordWrapperType\":\"None\",\"S3DistributionType\":\"FullyReplicated\",\"TrainingInputMode\":\"File\"}}\u001B[0m\n",
      "\u001B[34mSM_OUTPUT_DATA_DIR=/opt/ml/output/data\u001B[0m\n",
      "\u001B[34mSM_CHANNELS=[\"test\",\"train\"]\u001B[0m\n",
      "\u001B[34mSM_CURRENT_HOST=algo-1\u001B[0m\n",
      "\u001B[34mSM_MODULE_NAME=train\u001B[0m\n",
      "\u001B[34mSM_LOG_LEVEL=20\u001B[0m\n",
      "\u001B[34mSM_FRAMEWORK_MODULE=sagemaker_sklearn_container.training:main\u001B[0m\n",
      "\u001B[34mSM_INPUT_DIR=/opt/ml/input\u001B[0m\n",
      "\u001B[34mSM_INPUT_CONFIG_DIR=/opt/ml/input/config\u001B[0m\n",
      "\u001B[34mSM_OUTPUT_DIR=/opt/ml/output\u001B[0m\n",
      "\u001B[34mSM_NUM_CPUS=4\u001B[0m\n",
      "\u001B[34mSM_NUM_GPUS=0\u001B[0m\n",
      "\u001B[34mSM_MODEL_DIR=/opt/ml/model\u001B[0m\n",
      "\u001B[34mSM_MODULE_DIR=s3://sagemaker-eu-west-2-118756721574/mlflow-2023-05-05-13-40-51-573/source/sourcedir.tar.gz\u001B[0m\n",
      "\u001B[34mSM_TRAINING_ENV={\"additional_framework_parameters\":{},\"channel_input_dirs\":{\"test\":\"/opt/ml/input/data/test\",\"train\":\"/opt/ml/input/data/train\"},\"current_host\":\"algo-1\",\"framework_module\":\"sagemaker_sklearn_container.training:main\",\"hosts\":[\"algo-1\"],\"hyperparameters\":{\"experiment_name\":\"boston-housing\",\"features\":\"MedInc HouseAge AveRooms AveBedrms Population AveOccup Latitude Longitude\",\"min-samples-leaf\":3,\"n-estimators\":100,\"target\":\"target\",\"tracking_uri\":\"mlflo-mlflo-bzup59rprwdi-206c68add5dac1b3.elb.eu-west-2.amazonaws.com\"},\"input_config_dir\":\"/opt/ml/input/config\",\"input_data_config\":{\"test\":{\"RecordWrapperType\":\"None\",\"S3DistributionType\":\"FullyReplicated\",\"TrainingInputMode\":\"File\"},\"train\":{\"RecordWrapperType\":\"None\",\"S3DistributionType\":\"FullyReplicated\",\"TrainingInputMode\":\"File\"}},\"input_dir\":\"/opt/ml/input\",\"is_master\":true,\"job_name\":\"mlflow-2023-05-05-13-40-51-573\",\"log_level\":20,\"master_hostname\":\"algo-1\",\"model_dir\":\"/opt/ml/model\",\"module_dir\":\"s3://sagemaker-eu-west-2-118756721574/mlflow-2023-05-05-13-40-51-573/source/sourcedir.tar.gz\",\"module_name\":\"train\",\"network_interface_name\":\"eth0\",\"num_cpus\":4,\"num_gpus\":0,\"output_data_dir\":\"/opt/ml/output/data\",\"output_dir\":\"/opt/ml/output\",\"output_intermediate_dir\":\"/opt/ml/output/intermediate\",\"resource_config\":{\"current_group_name\":\"homogeneousCluster\",\"current_host\":\"algo-1\",\"current_instance_type\":\"ml.m5.xlarge\",\"hosts\":[\"algo-1\"],\"instance_groups\":[{\"hosts\":[\"algo-1\"],\"instance_group_name\":\"homogeneousCluster\",\"instance_type\":\"ml.m5.xlarge\"}],\"network_interface_name\":\"eth0\"},\"user_entry_point\":\"train.py\"}\u001B[0m\n",
      "\u001B[34mSM_USER_ARGS=[\"--experiment_name\",\"boston-housing\",\"--features\",\"MedInc HouseAge AveRooms AveBedrms Population AveOccup Latitude Longitude\",\"--min-samples-leaf\",\"3\",\"--n-estimators\",\"100\",\"--target\",\"target\",\"--tracking_uri\",\"mlflo-mlflo-bzup59rprwdi-206c68add5dac1b3.elb.eu-west-2.amazonaws.com\"]\u001B[0m\n",
      "\u001B[34mSM_OUTPUT_INTERMEDIATE_DIR=/opt/ml/output/intermediate\u001B[0m\n",
      "\u001B[34mSM_CHANNEL_TEST=/opt/ml/input/data/test\u001B[0m\n",
      "\u001B[34mSM_CHANNEL_TRAIN=/opt/ml/input/data/train\u001B[0m\n",
      "\u001B[34mSM_HP_EXPERIMENT_NAME=boston-housing\u001B[0m\n",
      "\u001B[34mSM_HP_FEATURES=MedInc HouseAge AveRooms AveBedrms Population AveOccup Latitude Longitude\u001B[0m\n",
      "\u001B[34mSM_HP_MIN-SAMPLES-LEAF=3\u001B[0m\n",
      "\u001B[34mSM_HP_N-ESTIMATORS=100\u001B[0m\n",
      "\u001B[34mSM_HP_TARGET=target\u001B[0m\n",
      "\u001B[34mSM_HP_TRACKING_URI=mlflo-mlflo-bzup59rprwdi-206c68add5dac1b3.elb.eu-west-2.amazonaws.com\u001B[0m\n",
      "\u001B[34mPYTHONPATH=/opt/ml/code:/miniconda3/bin:/miniconda3/lib/python38.zip:/miniconda3/lib/python3.8:/miniconda3/lib/python3.8/lib-dynload:/miniconda3/lib/python3.8/site-packages\u001B[0m\n",
      "\u001B[34mInvoking script with the following command:\u001B[0m\n",
      "\u001B[34m/miniconda3/bin/python -m train --experiment_name boston-housing --features MedInc HouseAge AveRooms AveBedrms Population AveOccup Latitude Longitude --min-samples-leaf 3 --n-estimators 100 --target target --tracking_uri mlflo-mlflo-bzup59rprwdi-206c68add5dac1b3.elb.eu-west-2.amazonaws.com\u001B[0m\n",
      "\u001B[34mINFO:root:reading data\u001B[0m\n",
      "\u001B[34mINFO:root:building training and testing datasets\u001B[0m\n",
      "\u001B[34m2023/05/05 13:42:16 INFO mlflow.tracking.fluent: Experiment with name 'boston-housing' does not exist. Creating a new experiment.\u001B[0m\n",
      "\u001B[34mINFO:root:training model\u001B[0m\n",
      "\u001B[34mINFO:root:evaluating model\u001B[0m\n",
      "\u001B[34mINFO:root:AE-at-10th-percentile: 0.030524191520202214\u001B[0m\n",
      "\u001B[34mINFO:root:AE-at-50th-percentile: 0.2020450931202149\u001B[0m\n",
      "\u001B[34mINFO:root:AE-at-90th-percentile: 0.7673404533995177\u001B[0m\n",
      "\u001B[34mINFO:root:saving model in MLflow\u001B[0m\n",
      "\u001B[34m/miniconda3/lib/python3.8/site-packages/_distutils_hack/__init__.py:33: UserWarning: Setuptools is replacing distutils.\n",
      "  warnings.warn(\"Setuptools is replacing distutils.\")\u001B[0m\n",
      "\u001B[34m2023-05-05 13:42:21,531 sagemaker-containers INFO     Reporting training SUCCESS\u001B[0m\n",
      "\n",
      "2023-05-05 13:42:34 Completed - Training job completed\n",
      "Training seconds: 86\n",
      "Billable seconds: 86\n"
     ]
    }
   ],
   "source": [
    "estimator.fit({'train':train_path, 'test': test_path})"
   ]
  }
 ],
 "metadata": {
  "kernelspec": {
   "name": "python3",
   "language": "python",
   "display_name": "Python 3 (ipykernel)"
  },
  "language_info": {
   "codemirror_mode": {
    "name": "ipython",
    "version": 3
   },
   "file_extension": ".py",
   "mimetype": "text/x-python",
   "name": "python",
   "nbconvert_exporter": "python",
   "pygments_lexer": "ipython3",
   "version": "3.8.12"
  },
  "vscode": {
   "interpreter": {
    "hash": "3b41de70bedc0e302a3aeb58a0c77b854f2e56c8930e61a4aaa3340c96b01f1d"
   }
  }
 },
 "nbformat": 4,
 "nbformat_minor": 2
}
